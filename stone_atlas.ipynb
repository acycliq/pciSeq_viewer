{
 "cells": [
  {
   "cell_type": "code",
   "execution_count": null,
   "id": "59273b8e-6e88-48a8-aa36-b9bc5dac04fd",
   "metadata": {},
   "outputs": [],
   "source": [
    "### Notebook to create customised texture atlas to use with anisotropic voxels"
   ]
  },
  {
   "cell_type": "code",
   "execution_count": null,
   "id": "96624dc8-5e69-431d-9ba2-556481fcc2d3",
   "metadata": {},
   "outputs": [],
   "source": [
    "## Keep in mind that textures.png looks quite unsual to me. \n",
    "## the shape is height: 512px and width 256px and each texture has shape 18px-by-18px!!\n",
    "## Doesnt make sense 512 and 256 arent multiples of 18\n",
    "## Thats why there are some empty pixels at the right edge of texture.png"
   ]
  },
  {
   "cell_type": "code",
   "execution_count": 19,
   "id": "33022c18-8868-4735-8e0f-cd36b5835ec8",
   "metadata": {},
   "outputs": [],
   "source": [
    "from PIL import Image\n",
    "\n",
    "def create_vertical_stone_atlas():\n",
    "  # Load the original texture atlas\n",
    "  original_atlas = Image.open('chunk_viewer/data/textures.png')\n",
    "\n",
    "  # Extract the stone texture at position (18, 0) - 18x18 pixels (ie top row, second column from textures.png \n",
    "  offset = 18*1 # This will pick up the 2nd texture, top row. change 1 to 2, 3 etc to pick the 3rd, 4th etc from top row \n",
    "  side_length = 18  \n",
    "  stone_texture = original_atlas.crop((offset, 0, offset + side_length, 0 + side_length))\n",
    "\n",
    "  # Create new vertical atlas: 18px wide, 256px tall\n",
    "  vertical_atlas = Image.new('RGBA', (side_length, side_length*side_length))\n",
    "\n",
    "  # Repeat the stone texture 16 times vertically (324 / 18 = 18 repetitions)\n",
    "  for i in range(side_length):\n",
    "      y_position = i * side_length\n",
    "      vertical_atlas.paste(stone_texture, (0, y_position))\n",
    "\n",
    "  # Save the new atlas\n",
    "  vertical_atlas.save('chunk_viewer/data/stone_atlas.png')\n",
    "  print(\"Created stone_atlas.png: 16x256px with repeated stone texture\")\n",
    "\n",
    "  # Optional: Show dimensions for verification\n",
    "  print(f\"Original atlas: {original_atlas.size}\")\n",
    "  print(f\"Extracted stone texture: {stone_texture.size}\")\n",
    "  print(f\"New vertical atlas: {vertical_atlas.size}\")\n",
    "\n",
    "\n"
   ]
  },
  {
   "cell_type": "code",
   "execution_count": 20,
   "id": "1556da05-6650-43c0-912f-199238ddbb09",
   "metadata": {},
   "outputs": [
    {
     "name": "stdout",
     "output_type": "stream",
     "text": [
      "Created stone_atlas.png: 16x256px with repeated stone texture\n",
      "Original atlas: (256, 512)\n",
      "Extracted stone texture: (18, 18)\n",
      "New vertical atlas: (18, 324)\n"
     ]
    }
   ],
   "source": [
    "create_vertical_stone_atlas()"
   ]
  },
  {
   "cell_type": "code",
   "execution_count": 12,
   "id": "3be05caf-c296-44ac-87bb-28abe931ecad",
   "metadata": {},
   "outputs": [
    {
     "data": {
      "text/plain": [
       "324"
      ]
     },
     "execution_count": 12,
     "metadata": {},
     "output_type": "execute_result"
    }
   ],
   "source": [
    "18*18"
   ]
  },
  {
   "cell_type": "code",
   "execution_count": null,
   "id": "33e4e475-c4d8-471c-a3b1-605f9986c5a0",
   "metadata": {},
   "outputs": [],
   "source": []
  }
 ],
 "metadata": {
  "kernelspec": {
   "display_name": "Python 3 (ipykernel)",
   "language": "python",
   "name": "python3"
  },
  "language_info": {
   "codemirror_mode": {
    "name": "ipython",
    "version": 3
   },
   "file_extension": ".py",
   "mimetype": "text/x-python",
   "name": "python",
   "nbconvert_exporter": "python",
   "pygments_lexer": "ipython3",
   "version": "3.10.16"
  }
 },
 "nbformat": 4,
 "nbformat_minor": 5
}
